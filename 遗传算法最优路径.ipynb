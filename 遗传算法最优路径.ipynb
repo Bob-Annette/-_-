{
 "cells": [
  {
   "cell_type": "code",
   "execution_count": 1,
   "metadata": {},
   "outputs": [],
   "source": [
    "import numpy as np\n",
    "import random\n",
    "import plotly.graph_objects as go"
   ]
  },
  {
   "cell_type": "code",
   "execution_count": 4,
   "metadata": {},
   "outputs": [],
   "source": [
    "def yinshe(dic, x):\n",
    "    while x in dic.keys():\n",
    "        x = dic[x]\n",
    "    return x\n",
    "\n",
    "def jiaocha(Lis1, Lis2):\n",
    "    lis1 = Lis1.copy()\n",
    "    lis2 = Lis2.copy()\n",
    "    n = len(lis1)\n",
    "    cross_points_1 = np.random.randint(low=0, high=n-1)\n",
    "    cross_points_2 = np.random.randint(low=cross_points_1+1, high=n)\n",
    "    \n",
    "    yinshe2 = dict(zip(lis1[cross_points_1: cross_points_2],lis2[cross_points_1: cross_points_2]))\n",
    "    yinshe1 = dict(zip(lis2[cross_points_1: cross_points_2],lis1[cross_points_1: cross_points_2]))\n",
    "\n",
    "    lis1[cross_points_1: cross_points_2], lis2[cross_points_1: cross_points_2] = lis2[cross_points_1: cross_points_2], lis1[cross_points_1: cross_points_2]\n",
    "    \n",
    "    lis1[:cross_points_1] = list(map(lambda x: yinshe(yinshe1, x), lis1[:cross_points_1]))\n",
    "    lis1[cross_points_2:] = list(map(lambda x: yinshe(yinshe1, x), lis1[cross_points_2:]))\n",
    "    lis2[:cross_points_1] = list(map(lambda x: yinshe(yinshe2, x), lis2[:cross_points_1]))\n",
    "    lis2[cross_points_2:] = list(map(lambda x: yinshe(yinshe2, x), lis2[cross_points_2:]))\n",
    "    return lis1, lis2\n",
    "\n",
    "def mutation(pop, MUTATION_RATE=0.003):\n",
    "    if np.random.rand() < MUTATION_RATE:\n",
    "        n = len(pop)\n",
    "        cross_points_1 = np.random.randint(low=0, high=n-1)\n",
    "        cross_points_2 = np.random.randint(low=cross_points_1+1, high=n)\n",
    "        pop[cross_points_1], pop[cross_points_2] = pop[cross_points_2], pop[cross_points_1]\n",
    "    return pop\n",
    "\n",
    "def initpop(N, pop):\n",
    "    def lis_shuffle(lis):\n",
    "        lisc = lis.copy()\n",
    "        random.shuffle(lisc)\n",
    "        return lisc\n",
    "    pops = [pop]*N\n",
    "    pops = list(map(lis_shuffle, pops))\n",
    "    return pops\n",
    "\n",
    "def dis(start, end):\n",
    "    # 两点之间距离\n",
    "    return np.sqrt((end[0]-start[0])**2+(end[1]-start[1])**2)\n",
    "\n",
    "def fuc(x):\n",
    "    dis_sum = dis((0,0),local[x[0]])\n",
    "    for i in range(1,len(x)):\n",
    "        dis_sum += dis(local[x[i-1]],local[x[i]])\n",
    "    dis_sum += dis(local[x[-1]],(0,0))\n",
    "    return dis_sum\n",
    "\n",
    "def get_fitness(pops):\n",
    "    return list(map(fuc,pops))\n",
    "\n",
    "def select(pops):\n",
    "    k = round(np.sqrt(len(pops)+0.25)+0.5)\n",
    "    fitness = get_fitness(pops)\n",
    "    father_pops = []\n",
    "    for i in range(k):\n",
    "        min_index = np.array(fitness).argmin()\n",
    "        father_pops.append(pops.pop(min_index))\n",
    "        fitness.pop(min_index)\n",
    "    return father_pops\n",
    "\n",
    "def evolution(pops):\n",
    "    father_pops = select(pops)\n",
    "    k = len(father_pops)\n",
    "    new_pops = []\n",
    "    for i in range(k-1):\n",
    "        for j in range(i+1,k):\n",
    "            son1, son2 = jiaocha(father_pops[i], father_pops[j])\n",
    "            son1 = mutation(son1, MUTATION_RATE=0.3)\n",
    "            son2 = mutation(son2, MUTATION_RATE=0.3)\n",
    "            new_pops.append(son1)\n",
    "            new_pops.append(son2)\n",
    "    return new_pops\n",
    "\n",
    "def out_xy(pop, local):\n",
    "    x, y = [0], [0]\n",
    "    for i in pop:\n",
    "        x.append(local[i][0])\n",
    "        y.append(local[i][1])\n",
    "    x.append(0)\n",
    "    y.append(0)\n",
    "    return x, y"
   ]
  },
  {
   "cell_type": "code",
   "execution_count": 20,
   "metadata": {},
   "outputs": [
    {
     "data": {
      "application/vnd.plotly.v1+json": {
       "config": {
        "plotlyServerURL": "https://plot.ly"
       },
       "data": [
        {
         "marker": {
          "size": 10
         },
         "mode": "markers",
         "type": "scatter",
         "x": [
          0,
          -1,
          -2,
          -4,
          -5,
          -3,
          1,
          4,
          3,
          2,
          0,
          0
         ],
         "y": [
          0,
          1,
          0,
          -3,
          -2,
          4,
          3,
          5,
          2,
          -4,
          -1,
          0
         ]
        },
        {
         "marker": {
          "color": "red",
          "size": 15
         },
         "mode": "markers",
         "name": "起点",
         "type": "scatter",
         "x": [
          0
         ],
         "y": [
          0
         ]
        }
       ],
       "frames": [
        {
         "data": [
          {
           "marker": {
            "size": 10
           },
           "mode": "lines+markers",
           "type": "scatter",
           "x": [
            0,
            1,
            4,
            3,
            -3,
            -4,
            -5,
            2,
            -2,
            -1,
            0,
            0
           ],
           "y": [
            0,
            3,
            5,
            2,
            4,
            -3,
            -2,
            -4,
            0,
            1,
            -1,
            0
           ]
          }
         ],
         "layout": {
          "title": {
           "text": "当前最短路径长度为：42.33"
          }
         }
        },
        {
         "data": [
          {
           "marker": {
            "size": 10
           },
           "mode": "lines+markers",
           "type": "scatter",
           "x": [
            0,
            1,
            4,
            3,
            2,
            -4,
            -5,
            -3,
            -2,
            -1,
            0,
            0
           ],
           "y": [
            0,
            3,
            5,
            2,
            -4,
            -3,
            -2,
            4,
            0,
            1,
            -1,
            0
           ]
          }
         ],
         "layout": {
          "title": {
           "text": "当前最短路径长度为：38.61"
          }
         }
        },
        {
         "data": [
          {
           "marker": {
            "size": 10
           },
           "mode": "lines+markers",
           "type": "scatter",
           "x": [
            0,
            1,
            4,
            3,
            2,
            -4,
            -5,
            -3,
            -1,
            -2,
            0,
            0
           ],
           "y": [
            0,
            3,
            5,
            2,
            -4,
            -3,
            -2,
            4,
            1,
            0,
            -1,
            0
           ]
          }
         ],
         "layout": {
          "title": {
           "text": "当前最短路径长度为：38.09"
          }
         }
        },
        {
         "data": [
          {
           "marker": {
            "size": 10
           },
           "mode": "lines+markers",
           "type": "scatter",
           "x": [
            0,
            -1,
            -5,
            -4,
            -2,
            -3,
            1,
            4,
            3,
            2,
            0,
            0
           ],
           "y": [
            0,
            1,
            -2,
            -3,
            0,
            4,
            3,
            5,
            2,
            -4,
            -1,
            0
           ]
          }
         ],
         "layout": {
          "title": {
           "text": "当前最短路径长度为：37.14"
          }
         }
        },
        {
         "data": [
          {
           "marker": {
            "size": 10
           },
           "mode": "lines+markers",
           "type": "scatter",
           "x": [
            0,
            -1,
            -5,
            -4,
            -2,
            -3,
            1,
            4,
            3,
            2,
            0,
            0
           ],
           "y": [
            0,
            1,
            -2,
            -3,
            0,
            4,
            3,
            5,
            2,
            -4,
            -1,
            0
           ]
          }
         ],
         "layout": {
          "title": {
           "text": "当前最短路径长度为：37.14"
          }
         }
        },
        {
         "data": [
          {
           "marker": {
            "size": 10
           },
           "mode": "lines+markers",
           "type": "scatter",
           "x": [
            0,
            -1,
            -5,
            -4,
            -2,
            -3,
            1,
            4,
            3,
            2,
            0,
            0
           ],
           "y": [
            0,
            1,
            -2,
            -3,
            0,
            4,
            3,
            5,
            2,
            -4,
            -1,
            0
           ]
          }
         ],
         "layout": {
          "title": {
           "text": "当前最短路径长度为：37.14"
          }
         }
        },
        {
         "data": [
          {
           "marker": {
            "size": 10
           },
           "mode": "lines+markers",
           "type": "scatter",
           "x": [
            0,
            -1,
            -5,
            -4,
            -2,
            -3,
            1,
            4,
            3,
            2,
            0,
            0
           ],
           "y": [
            0,
            1,
            -2,
            -3,
            0,
            4,
            3,
            5,
            2,
            -4,
            -1,
            0
           ]
          }
         ],
         "layout": {
          "title": {
           "text": "当前最短路径长度为：37.14"
          }
         }
        },
        {
         "data": [
          {
           "marker": {
            "size": 10
           },
           "mode": "lines+markers",
           "type": "scatter",
           "x": [
            0,
            -1,
            -5,
            -4,
            -2,
            -3,
            1,
            4,
            3,
            2,
            0,
            0
           ],
           "y": [
            0,
            1,
            -2,
            -3,
            0,
            4,
            3,
            5,
            2,
            -4,
            -1,
            0
           ]
          }
         ],
         "layout": {
          "title": {
           "text": "当前最短路径长度为：37.14"
          }
         }
        },
        {
         "data": [
          {
           "marker": {
            "size": 10
           },
           "mode": "lines+markers",
           "type": "scatter",
           "x": [
            0,
            -1,
            -5,
            -4,
            -2,
            -3,
            1,
            4,
            3,
            2,
            0,
            0
           ],
           "y": [
            0,
            1,
            -2,
            -3,
            0,
            4,
            3,
            5,
            2,
            -4,
            -1,
            0
           ]
          }
         ],
         "layout": {
          "title": {
           "text": "当前最短路径长度为：37.14"
          }
         }
        },
        {
         "data": [
          {
           "marker": {
            "size": 10
           },
           "mode": "lines+markers",
           "type": "scatter",
           "x": [
            0,
            -1,
            -5,
            -4,
            -2,
            -3,
            1,
            4,
            3,
            2,
            0,
            0
           ],
           "y": [
            0,
            1,
            -2,
            -3,
            0,
            4,
            3,
            5,
            2,
            -4,
            -1,
            0
           ]
          }
         ],
         "layout": {
          "title": {
           "text": "当前最短路径长度为：37.14"
          }
         }
        },
        {
         "data": [
          {
           "marker": {
            "size": 10
           },
           "mode": "lines+markers",
           "type": "scatter",
           "x": [
            0,
            -1,
            -5,
            -4,
            -2,
            -3,
            1,
            4,
            3,
            2,
            0,
            0
           ],
           "y": [
            0,
            1,
            -2,
            -3,
            0,
            4,
            3,
            5,
            2,
            -4,
            -1,
            0
           ]
          }
         ],
         "layout": {
          "title": {
           "text": "当前最短路径长度为：37.14"
          }
         }
        },
        {
         "data": [
          {
           "marker": {
            "size": 10
           },
           "mode": "lines+markers",
           "type": "scatter",
           "x": [
            0,
            -1,
            -2,
            -4,
            -5,
            -3,
            1,
            4,
            3,
            2,
            0,
            0
           ],
           "y": [
            0,
            1,
            0,
            -3,
            -2,
            4,
            3,
            5,
            2,
            -4,
            -1,
            0
           ]
          }
         ],
         "layout": {
          "title": {
           "text": "当前最短路径长度为：35.75"
          }
         }
        },
        {
         "data": [
          {
           "marker": {
            "size": 10
           },
           "mode": "lines+markers",
           "type": "scatter",
           "x": [
            0,
            -1,
            -2,
            -4,
            -5,
            -3,
            1,
            4,
            3,
            2,
            0,
            0
           ],
           "y": [
            0,
            1,
            0,
            -3,
            -2,
            4,
            3,
            5,
            2,
            -4,
            -1,
            0
           ]
          }
         ],
         "layout": {
          "title": {
           "text": "当前最短路径长度为：35.75"
          }
         }
        },
        {
         "data": [
          {
           "marker": {
            "size": 10
           },
           "mode": "lines+markers",
           "type": "scatter",
           "x": [
            0,
            -1,
            -2,
            -4,
            -5,
            -3,
            1,
            4,
            3,
            2,
            0,
            0
           ],
           "y": [
            0,
            1,
            0,
            -3,
            -2,
            4,
            3,
            5,
            2,
            -4,
            -1,
            0
           ]
          }
         ],
         "layout": {
          "title": {
           "text": "当前最短路径长度为：35.75"
          }
         }
        },
        {
         "data": [
          {
           "marker": {
            "size": 10
           },
           "mode": "lines+markers",
           "type": "scatter",
           "x": [
            0,
            -1,
            -2,
            -4,
            -5,
            -3,
            1,
            4,
            3,
            2,
            0,
            0
           ],
           "y": [
            0,
            1,
            0,
            -3,
            -2,
            4,
            3,
            5,
            2,
            -4,
            -1,
            0
           ]
          }
         ],
         "layout": {
          "title": {
           "text": "当前最短路径长度为：35.75"
          }
         }
        },
        {
         "data": [
          {
           "marker": {
            "size": 10
           },
           "mode": "lines+markers",
           "type": "scatter",
           "x": [
            0,
            -1,
            -2,
            -4,
            -5,
            -3,
            1,
            4,
            3,
            2,
            0,
            0
           ],
           "y": [
            0,
            1,
            0,
            -3,
            -2,
            4,
            3,
            5,
            2,
            -4,
            -1,
            0
           ]
          }
         ],
         "layout": {
          "title": {
           "text": "当前最短路径长度为：35.75"
          }
         }
        },
        {
         "data": [
          {
           "marker": {
            "size": 10
           },
           "mode": "lines+markers",
           "type": "scatter",
           "x": [
            0,
            -1,
            -2,
            -4,
            -5,
            -3,
            1,
            4,
            3,
            2,
            0,
            0
           ],
           "y": [
            0,
            1,
            0,
            -3,
            -2,
            4,
            3,
            5,
            2,
            -4,
            -1,
            0
           ]
          }
         ],
         "layout": {
          "title": {
           "text": "当前最短路径长度为：35.75"
          }
         }
        },
        {
         "data": [
          {
           "marker": {
            "size": 10
           },
           "mode": "lines+markers",
           "type": "scatter",
           "x": [
            0,
            -1,
            -2,
            -4,
            -5,
            -3,
            1,
            4,
            3,
            2,
            0,
            0
           ],
           "y": [
            0,
            1,
            0,
            -3,
            -2,
            4,
            3,
            5,
            2,
            -4,
            -1,
            0
           ]
          }
         ],
         "layout": {
          "title": {
           "text": "当前最短路径长度为：35.75"
          }
         }
        },
        {
         "data": [
          {
           "marker": {
            "size": 10
           },
           "mode": "lines+markers",
           "type": "scatter",
           "x": [
            0,
            -1,
            -2,
            -4,
            -5,
            -3,
            1,
            4,
            3,
            2,
            0,
            0
           ],
           "y": [
            0,
            1,
            0,
            -3,
            -2,
            4,
            3,
            5,
            2,
            -4,
            -1,
            0
           ]
          }
         ],
         "layout": {
          "title": {
           "text": "当前最短路径长度为：35.75"
          }
         }
        },
        {
         "data": [
          {
           "marker": {
            "size": 10
           },
           "mode": "lines+markers",
           "type": "scatter",
           "x": [
            0,
            -1,
            -2,
            -4,
            -5,
            -3,
            1,
            4,
            3,
            2,
            0,
            0
           ],
           "y": [
            0,
            1,
            0,
            -3,
            -2,
            4,
            3,
            5,
            2,
            -4,
            -1,
            0
           ]
          }
         ],
         "layout": {
          "title": {
           "text": "当前最短路径长度为：35.75"
          }
         }
        },
        {
         "data": [
          {
           "marker": {
            "size": 10
           },
           "mode": "lines+markers",
           "type": "scatter",
           "x": [
            0,
            -1,
            -2,
            -4,
            -5,
            -3,
            1,
            4,
            3,
            2,
            0,
            0
           ],
           "y": [
            0,
            1,
            0,
            -3,
            -2,
            4,
            3,
            5,
            2,
            -4,
            -1,
            0
           ]
          }
         ],
         "layout": {
          "title": {
           "text": "当前最短路径长度为：35.75"
          }
         }
        },
        {
         "data": [
          {
           "marker": {
            "size": 10
           },
           "mode": "lines+markers",
           "type": "scatter",
           "x": [
            0,
            -1,
            -2,
            -4,
            -5,
            -3,
            1,
            4,
            3,
            2,
            0,
            0
           ],
           "y": [
            0,
            1,
            0,
            -3,
            -2,
            4,
            3,
            5,
            2,
            -4,
            -1,
            0
           ]
          }
         ],
         "layout": {
          "title": {
           "text": "当前最短路径长度为：35.75"
          }
         }
        },
        {
         "data": [
          {
           "marker": {
            "size": 10
           },
           "mode": "lines+markers",
           "type": "scatter",
           "x": [
            0,
            -1,
            -2,
            -4,
            -5,
            -3,
            1,
            4,
            3,
            2,
            0,
            0
           ],
           "y": [
            0,
            1,
            0,
            -3,
            -2,
            4,
            3,
            5,
            2,
            -4,
            -1,
            0
           ]
          }
         ],
         "layout": {
          "title": {
           "text": "当前最短路径长度为：35.75"
          }
         }
        },
        {
         "data": [
          {
           "marker": {
            "size": 10
           },
           "mode": "lines+markers",
           "type": "scatter",
           "x": [
            0,
            -1,
            -2,
            -4,
            -5,
            -3,
            1,
            4,
            3,
            2,
            0,
            0
           ],
           "y": [
            0,
            1,
            0,
            -3,
            -2,
            4,
            3,
            5,
            2,
            -4,
            -1,
            0
           ]
          }
         ],
         "layout": {
          "title": {
           "text": "当前最短路径长度为：35.75"
          }
         }
        },
        {
         "data": [
          {
           "marker": {
            "size": 10
           },
           "mode": "lines+markers",
           "type": "scatter",
           "x": [
            0,
            -1,
            -2,
            -4,
            -5,
            -3,
            1,
            4,
            3,
            2,
            0,
            0
           ],
           "y": [
            0,
            1,
            0,
            -3,
            -2,
            4,
            3,
            5,
            2,
            -4,
            -1,
            0
           ]
          }
         ],
         "layout": {
          "title": {
           "text": "当前最短路径长度为：35.75"
          }
         }
        },
        {
         "data": [
          {
           "marker": {
            "size": 10
           },
           "mode": "lines+markers",
           "type": "scatter",
           "x": [
            0,
            -1,
            -2,
            -4,
            -5,
            -3,
            1,
            4,
            3,
            2,
            0,
            0
           ],
           "y": [
            0,
            1,
            0,
            -3,
            -2,
            4,
            3,
            5,
            2,
            -4,
            -1,
            0
           ]
          }
         ],
         "layout": {
          "title": {
           "text": "当前最短路径长度为：35.75"
          }
         }
        },
        {
         "data": [
          {
           "marker": {
            "size": 10
           },
           "mode": "lines+markers",
           "type": "scatter",
           "x": [
            0,
            -1,
            -2,
            -4,
            -5,
            -3,
            1,
            4,
            3,
            2,
            0,
            0
           ],
           "y": [
            0,
            1,
            0,
            -3,
            -2,
            4,
            3,
            5,
            2,
            -4,
            -1,
            0
           ]
          }
         ],
         "layout": {
          "title": {
           "text": "当前最短路径长度为：35.75"
          }
         }
        },
        {
         "data": [
          {
           "marker": {
            "size": 10
           },
           "mode": "lines+markers",
           "type": "scatter",
           "x": [
            0,
            -1,
            -2,
            -4,
            -5,
            -3,
            1,
            4,
            3,
            2,
            0,
            0
           ],
           "y": [
            0,
            1,
            0,
            -3,
            -2,
            4,
            3,
            5,
            2,
            -4,
            -1,
            0
           ]
          }
         ],
         "layout": {
          "title": {
           "text": "当前最短路径长度为：35.75"
          }
         }
        },
        {
         "data": [
          {
           "marker": {
            "size": 10
           },
           "mode": "lines+markers",
           "type": "scatter",
           "x": [
            0,
            -1,
            -2,
            -4,
            -5,
            -3,
            1,
            4,
            3,
            2,
            0,
            0
           ],
           "y": [
            0,
            1,
            0,
            -3,
            -2,
            4,
            3,
            5,
            2,
            -4,
            -1,
            0
           ]
          }
         ],
         "layout": {
          "title": {
           "text": "当前最短路径长度为：35.75"
          }
         }
        },
        {
         "data": [
          {
           "marker": {
            "size": 10
           },
           "mode": "lines+markers",
           "type": "scatter",
           "x": [
            0,
            -1,
            -2,
            -4,
            -5,
            -3,
            1,
            4,
            3,
            2,
            0,
            0
           ],
           "y": [
            0,
            1,
            0,
            -3,
            -2,
            4,
            3,
            5,
            2,
            -4,
            -1,
            0
           ]
          }
         ],
         "layout": {
          "title": {
           "text": "当前最短路径长度为：35.75"
          }
         }
        },
        {
         "data": [
          {
           "marker": {
            "size": 10
           },
           "mode": "lines+markers",
           "type": "scatter",
           "x": [
            0,
            -1,
            -2,
            -4,
            -5,
            -3,
            1,
            4,
            3,
            2,
            0,
            0
           ],
           "y": [
            0,
            1,
            0,
            -3,
            -2,
            4,
            3,
            5,
            2,
            -4,
            -1,
            0
           ]
          }
         ],
         "layout": {
          "title": {
           "text": "当前最短路径长度为：35.75"
          }
         }
        },
        {
         "data": [
          {
           "marker": {
            "size": 10
           },
           "mode": "lines+markers",
           "type": "scatter",
           "x": [
            0,
            -1,
            -2,
            -4,
            -5,
            -3,
            1,
            4,
            3,
            2,
            0,
            0
           ],
           "y": [
            0,
            1,
            0,
            -3,
            -2,
            4,
            3,
            5,
            2,
            -4,
            -1,
            0
           ]
          }
         ],
         "layout": {
          "title": {
           "text": "当前最短路径长度为：35.75"
          }
         }
        },
        {
         "data": [
          {
           "marker": {
            "size": 10
           },
           "mode": "lines+markers",
           "type": "scatter",
           "x": [
            0,
            -1,
            -2,
            -4,
            -5,
            -3,
            1,
            4,
            3,
            2,
            0,
            0
           ],
           "y": [
            0,
            1,
            0,
            -3,
            -2,
            4,
            3,
            5,
            2,
            -4,
            -1,
            0
           ]
          }
         ],
         "layout": {
          "title": {
           "text": "当前最短路径长度为：35.75"
          }
         }
        },
        {
         "data": [
          {
           "marker": {
            "size": 10
           },
           "mode": "lines+markers",
           "type": "scatter",
           "x": [
            0,
            -1,
            -2,
            -4,
            -5,
            -3,
            1,
            4,
            3,
            2,
            0,
            0
           ],
           "y": [
            0,
            1,
            0,
            -3,
            -2,
            4,
            3,
            5,
            2,
            -4,
            -1,
            0
           ]
          }
         ],
         "layout": {
          "title": {
           "text": "当前最短路径长度为：35.75"
          }
         }
        },
        {
         "data": [
          {
           "marker": {
            "size": 10
           },
           "mode": "lines+markers",
           "type": "scatter",
           "x": [
            0,
            -1,
            -2,
            -4,
            -5,
            -3,
            1,
            4,
            3,
            2,
            0,
            0
           ],
           "y": [
            0,
            1,
            0,
            -3,
            -2,
            4,
            3,
            5,
            2,
            -4,
            -1,
            0
           ]
          }
         ],
         "layout": {
          "title": {
           "text": "当前最短路径长度为：35.75"
          }
         }
        },
        {
         "data": [
          {
           "marker": {
            "size": 10
           },
           "mode": "lines+markers",
           "type": "scatter",
           "x": [
            0,
            -1,
            -2,
            -4,
            -5,
            -3,
            1,
            4,
            3,
            2,
            0,
            0
           ],
           "y": [
            0,
            1,
            0,
            -3,
            -2,
            4,
            3,
            5,
            2,
            -4,
            -1,
            0
           ]
          }
         ],
         "layout": {
          "title": {
           "text": "当前最短路径长度为：35.75"
          }
         }
        },
        {
         "data": [
          {
           "marker": {
            "size": 10
           },
           "mode": "lines+markers",
           "type": "scatter",
           "x": [
            0,
            -1,
            -2,
            -4,
            -5,
            -3,
            1,
            4,
            3,
            2,
            0,
            0
           ],
           "y": [
            0,
            1,
            0,
            -3,
            -2,
            4,
            3,
            5,
            2,
            -4,
            -1,
            0
           ]
          }
         ],
         "layout": {
          "title": {
           "text": "当前最短路径长度为：35.75"
          }
         }
        },
        {
         "data": [
          {
           "marker": {
            "size": 10
           },
           "mode": "lines+markers",
           "type": "scatter",
           "x": [
            0,
            -1,
            -2,
            -4,
            -5,
            -3,
            1,
            4,
            3,
            2,
            0,
            0
           ],
           "y": [
            0,
            1,
            0,
            -3,
            -2,
            4,
            3,
            5,
            2,
            -4,
            -1,
            0
           ]
          }
         ],
         "layout": {
          "title": {
           "text": "当前最短路径长度为：35.75"
          }
         }
        },
        {
         "data": [
          {
           "marker": {
            "size": 10
           },
           "mode": "lines+markers",
           "type": "scatter",
           "x": [
            0,
            -1,
            -2,
            -4,
            -5,
            -3,
            1,
            4,
            3,
            2,
            0,
            0
           ],
           "y": [
            0,
            1,
            0,
            -3,
            -2,
            4,
            3,
            5,
            2,
            -4,
            -1,
            0
           ]
          }
         ],
         "layout": {
          "title": {
           "text": "当前最短路径长度为：35.75"
          }
         }
        },
        {
         "data": [
          {
           "marker": {
            "size": 10
           },
           "mode": "lines+markers",
           "type": "scatter",
           "x": [
            0,
            -1,
            -2,
            -4,
            -5,
            -3,
            1,
            4,
            3,
            2,
            0,
            0
           ],
           "y": [
            0,
            1,
            0,
            -3,
            -2,
            4,
            3,
            5,
            2,
            -4,
            -1,
            0
           ]
          }
         ],
         "layout": {
          "title": {
           "text": "当前最短路径长度为：35.75"
          }
         }
        },
        {
         "data": [
          {
           "marker": {
            "size": 10
           },
           "mode": "lines+markers",
           "type": "scatter",
           "x": [
            0,
            -1,
            -2,
            -4,
            -5,
            -3,
            1,
            4,
            3,
            2,
            0,
            0
           ],
           "y": [
            0,
            1,
            0,
            -3,
            -2,
            4,
            3,
            5,
            2,
            -4,
            -1,
            0
           ]
          }
         ],
         "layout": {
          "title": {
           "text": "当前最短路径长度为：35.75"
          }
         }
        },
        {
         "data": [
          {
           "marker": {
            "size": 10
           },
           "mode": "lines+markers",
           "type": "scatter",
           "x": [
            0,
            -1,
            -2,
            -4,
            -5,
            -3,
            1,
            4,
            3,
            2,
            0,
            0
           ],
           "y": [
            0,
            1,
            0,
            -3,
            -2,
            4,
            3,
            5,
            2,
            -4,
            -1,
            0
           ]
          }
         ],
         "layout": {
          "title": {
           "text": "当前最短路径长度为：35.75"
          }
         }
        },
        {
         "data": [
          {
           "marker": {
            "size": 10
           },
           "mode": "lines+markers",
           "type": "scatter",
           "x": [
            0,
            -1,
            -2,
            -4,
            -5,
            -3,
            1,
            4,
            3,
            2,
            0,
            0
           ],
           "y": [
            0,
            1,
            0,
            -3,
            -2,
            4,
            3,
            5,
            2,
            -4,
            -1,
            0
           ]
          }
         ],
         "layout": {
          "title": {
           "text": "当前最短路径长度为：35.75"
          }
         }
        },
        {
         "data": [
          {
           "marker": {
            "size": 10
           },
           "mode": "lines+markers",
           "type": "scatter",
           "x": [
            0,
            -1,
            -2,
            -4,
            -5,
            -3,
            1,
            4,
            3,
            2,
            0,
            0
           ],
           "y": [
            0,
            1,
            0,
            -3,
            -2,
            4,
            3,
            5,
            2,
            -4,
            -1,
            0
           ]
          }
         ],
         "layout": {
          "title": {
           "text": "当前最短路径长度为：35.75"
          }
         }
        },
        {
         "data": [
          {
           "marker": {
            "size": 10
           },
           "mode": "lines+markers",
           "type": "scatter",
           "x": [
            0,
            -1,
            -2,
            -4,
            -5,
            -3,
            1,
            4,
            3,
            2,
            0,
            0
           ],
           "y": [
            0,
            1,
            0,
            -3,
            -2,
            4,
            3,
            5,
            2,
            -4,
            -1,
            0
           ]
          }
         ],
         "layout": {
          "title": {
           "text": "当前最短路径长度为：35.75"
          }
         }
        },
        {
         "data": [
          {
           "marker": {
            "size": 10
           },
           "mode": "lines+markers",
           "type": "scatter",
           "x": [
            0,
            -1,
            -2,
            -4,
            -5,
            -3,
            1,
            4,
            3,
            2,
            0,
            0
           ],
           "y": [
            0,
            1,
            0,
            -3,
            -2,
            4,
            3,
            5,
            2,
            -4,
            -1,
            0
           ]
          }
         ],
         "layout": {
          "title": {
           "text": "当前最短路径长度为：35.75"
          }
         }
        },
        {
         "data": [
          {
           "marker": {
            "size": 10
           },
           "mode": "lines+markers",
           "type": "scatter",
           "x": [
            0,
            -1,
            -2,
            -4,
            -5,
            -3,
            1,
            4,
            3,
            2,
            0,
            0
           ],
           "y": [
            0,
            1,
            0,
            -3,
            -2,
            4,
            3,
            5,
            2,
            -4,
            -1,
            0
           ]
          }
         ],
         "layout": {
          "title": {
           "text": "当前最短路径长度为：35.75"
          }
         }
        },
        {
         "data": [
          {
           "marker": {
            "size": 10
           },
           "mode": "lines+markers",
           "type": "scatter",
           "x": [
            0,
            -1,
            -2,
            -4,
            -5,
            -3,
            1,
            4,
            3,
            2,
            0,
            0
           ],
           "y": [
            0,
            1,
            0,
            -3,
            -2,
            4,
            3,
            5,
            2,
            -4,
            -1,
            0
           ]
          }
         ],
         "layout": {
          "title": {
           "text": "当前最短路径长度为：35.75"
          }
         }
        },
        {
         "data": [
          {
           "marker": {
            "size": 10
           },
           "mode": "lines+markers",
           "type": "scatter",
           "x": [
            0,
            -1,
            -2,
            -4,
            -5,
            -3,
            1,
            4,
            3,
            2,
            0,
            0
           ],
           "y": [
            0,
            1,
            0,
            -3,
            -2,
            4,
            3,
            5,
            2,
            -4,
            -1,
            0
           ]
          }
         ],
         "layout": {
          "title": {
           "text": "当前最短路径长度为：35.75"
          }
         }
        },
        {
         "data": [
          {
           "marker": {
            "size": 10
           },
           "mode": "lines+markers",
           "type": "scatter",
           "x": [
            0,
            -1,
            -2,
            -4,
            -5,
            -3,
            1,
            4,
            3,
            2,
            0,
            0
           ],
           "y": [
            0,
            1,
            0,
            -3,
            -2,
            4,
            3,
            5,
            2,
            -4,
            -1,
            0
           ]
          }
         ],
         "layout": {
          "title": {
           "text": "遗传结束，最短路径长度为：35.75"
          }
         }
        }
       ],
       "layout": {
        "height": 800,
        "template": {
         "data": {
          "bar": [
           {
            "error_x": {
             "color": "#2a3f5f"
            },
            "error_y": {
             "color": "#2a3f5f"
            },
            "marker": {
             "line": {
              "color": "#E5ECF6",
              "width": 0.5
             },
             "pattern": {
              "fillmode": "overlay",
              "size": 10,
              "solidity": 0.2
             }
            },
            "type": "bar"
           }
          ],
          "barpolar": [
           {
            "marker": {
             "line": {
              "color": "#E5ECF6",
              "width": 0.5
             },
             "pattern": {
              "fillmode": "overlay",
              "size": 10,
              "solidity": 0.2
             }
            },
            "type": "barpolar"
           }
          ],
          "carpet": [
           {
            "aaxis": {
             "endlinecolor": "#2a3f5f",
             "gridcolor": "white",
             "linecolor": "white",
             "minorgridcolor": "white",
             "startlinecolor": "#2a3f5f"
            },
            "baxis": {
             "endlinecolor": "#2a3f5f",
             "gridcolor": "white",
             "linecolor": "white",
             "minorgridcolor": "white",
             "startlinecolor": "#2a3f5f"
            },
            "type": "carpet"
           }
          ],
          "choropleth": [
           {
            "colorbar": {
             "outlinewidth": 0,
             "ticks": ""
            },
            "type": "choropleth"
           }
          ],
          "contour": [
           {
            "colorbar": {
             "outlinewidth": 0,
             "ticks": ""
            },
            "colorscale": [
             [
              0,
              "#0d0887"
             ],
             [
              0.1111111111111111,
              "#46039f"
             ],
             [
              0.2222222222222222,
              "#7201a8"
             ],
             [
              0.3333333333333333,
              "#9c179e"
             ],
             [
              0.4444444444444444,
              "#bd3786"
             ],
             [
              0.5555555555555556,
              "#d8576b"
             ],
             [
              0.6666666666666666,
              "#ed7953"
             ],
             [
              0.7777777777777778,
              "#fb9f3a"
             ],
             [
              0.8888888888888888,
              "#fdca26"
             ],
             [
              1,
              "#f0f921"
             ]
            ],
            "type": "contour"
           }
          ],
          "contourcarpet": [
           {
            "colorbar": {
             "outlinewidth": 0,
             "ticks": ""
            },
            "type": "contourcarpet"
           }
          ],
          "heatmap": [
           {
            "colorbar": {
             "outlinewidth": 0,
             "ticks": ""
            },
            "colorscale": [
             [
              0,
              "#0d0887"
             ],
             [
              0.1111111111111111,
              "#46039f"
             ],
             [
              0.2222222222222222,
              "#7201a8"
             ],
             [
              0.3333333333333333,
              "#9c179e"
             ],
             [
              0.4444444444444444,
              "#bd3786"
             ],
             [
              0.5555555555555556,
              "#d8576b"
             ],
             [
              0.6666666666666666,
              "#ed7953"
             ],
             [
              0.7777777777777778,
              "#fb9f3a"
             ],
             [
              0.8888888888888888,
              "#fdca26"
             ],
             [
              1,
              "#f0f921"
             ]
            ],
            "type": "heatmap"
           }
          ],
          "heatmapgl": [
           {
            "colorbar": {
             "outlinewidth": 0,
             "ticks": ""
            },
            "colorscale": [
             [
              0,
              "#0d0887"
             ],
             [
              0.1111111111111111,
              "#46039f"
             ],
             [
              0.2222222222222222,
              "#7201a8"
             ],
             [
              0.3333333333333333,
              "#9c179e"
             ],
             [
              0.4444444444444444,
              "#bd3786"
             ],
             [
              0.5555555555555556,
              "#d8576b"
             ],
             [
              0.6666666666666666,
              "#ed7953"
             ],
             [
              0.7777777777777778,
              "#fb9f3a"
             ],
             [
              0.8888888888888888,
              "#fdca26"
             ],
             [
              1,
              "#f0f921"
             ]
            ],
            "type": "heatmapgl"
           }
          ],
          "histogram": [
           {
            "marker": {
             "pattern": {
              "fillmode": "overlay",
              "size": 10,
              "solidity": 0.2
             }
            },
            "type": "histogram"
           }
          ],
          "histogram2d": [
           {
            "colorbar": {
             "outlinewidth": 0,
             "ticks": ""
            },
            "colorscale": [
             [
              0,
              "#0d0887"
             ],
             [
              0.1111111111111111,
              "#46039f"
             ],
             [
              0.2222222222222222,
              "#7201a8"
             ],
             [
              0.3333333333333333,
              "#9c179e"
             ],
             [
              0.4444444444444444,
              "#bd3786"
             ],
             [
              0.5555555555555556,
              "#d8576b"
             ],
             [
              0.6666666666666666,
              "#ed7953"
             ],
             [
              0.7777777777777778,
              "#fb9f3a"
             ],
             [
              0.8888888888888888,
              "#fdca26"
             ],
             [
              1,
              "#f0f921"
             ]
            ],
            "type": "histogram2d"
           }
          ],
          "histogram2dcontour": [
           {
            "colorbar": {
             "outlinewidth": 0,
             "ticks": ""
            },
            "colorscale": [
             [
              0,
              "#0d0887"
             ],
             [
              0.1111111111111111,
              "#46039f"
             ],
             [
              0.2222222222222222,
              "#7201a8"
             ],
             [
              0.3333333333333333,
              "#9c179e"
             ],
             [
              0.4444444444444444,
              "#bd3786"
             ],
             [
              0.5555555555555556,
              "#d8576b"
             ],
             [
              0.6666666666666666,
              "#ed7953"
             ],
             [
              0.7777777777777778,
              "#fb9f3a"
             ],
             [
              0.8888888888888888,
              "#fdca26"
             ],
             [
              1,
              "#f0f921"
             ]
            ],
            "type": "histogram2dcontour"
           }
          ],
          "mesh3d": [
           {
            "colorbar": {
             "outlinewidth": 0,
             "ticks": ""
            },
            "type": "mesh3d"
           }
          ],
          "parcoords": [
           {
            "line": {
             "colorbar": {
              "outlinewidth": 0,
              "ticks": ""
             }
            },
            "type": "parcoords"
           }
          ],
          "pie": [
           {
            "automargin": true,
            "type": "pie"
           }
          ],
          "scatter": [
           {
            "fillpattern": {
             "fillmode": "overlay",
             "size": 10,
             "solidity": 0.2
            },
            "type": "scatter"
           }
          ],
          "scatter3d": [
           {
            "line": {
             "colorbar": {
              "outlinewidth": 0,
              "ticks": ""
             }
            },
            "marker": {
             "colorbar": {
              "outlinewidth": 0,
              "ticks": ""
             }
            },
            "type": "scatter3d"
           }
          ],
          "scattercarpet": [
           {
            "marker": {
             "colorbar": {
              "outlinewidth": 0,
              "ticks": ""
             }
            },
            "type": "scattercarpet"
           }
          ],
          "scattergeo": [
           {
            "marker": {
             "colorbar": {
              "outlinewidth": 0,
              "ticks": ""
             }
            },
            "type": "scattergeo"
           }
          ],
          "scattergl": [
           {
            "marker": {
             "colorbar": {
              "outlinewidth": 0,
              "ticks": ""
             }
            },
            "type": "scattergl"
           }
          ],
          "scattermapbox": [
           {
            "marker": {
             "colorbar": {
              "outlinewidth": 0,
              "ticks": ""
             }
            },
            "type": "scattermapbox"
           }
          ],
          "scatterpolar": [
           {
            "marker": {
             "colorbar": {
              "outlinewidth": 0,
              "ticks": ""
             }
            },
            "type": "scatterpolar"
           }
          ],
          "scatterpolargl": [
           {
            "marker": {
             "colorbar": {
              "outlinewidth": 0,
              "ticks": ""
             }
            },
            "type": "scatterpolargl"
           }
          ],
          "scatterternary": [
           {
            "marker": {
             "colorbar": {
              "outlinewidth": 0,
              "ticks": ""
             }
            },
            "type": "scatterternary"
           }
          ],
          "surface": [
           {
            "colorbar": {
             "outlinewidth": 0,
             "ticks": ""
            },
            "colorscale": [
             [
              0,
              "#0d0887"
             ],
             [
              0.1111111111111111,
              "#46039f"
             ],
             [
              0.2222222222222222,
              "#7201a8"
             ],
             [
              0.3333333333333333,
              "#9c179e"
             ],
             [
              0.4444444444444444,
              "#bd3786"
             ],
             [
              0.5555555555555556,
              "#d8576b"
             ],
             [
              0.6666666666666666,
              "#ed7953"
             ],
             [
              0.7777777777777778,
              "#fb9f3a"
             ],
             [
              0.8888888888888888,
              "#fdca26"
             ],
             [
              1,
              "#f0f921"
             ]
            ],
            "type": "surface"
           }
          ],
          "table": [
           {
            "cells": {
             "fill": {
              "color": "#EBF0F8"
             },
             "line": {
              "color": "white"
             }
            },
            "header": {
             "fill": {
              "color": "#C8D4E3"
             },
             "line": {
              "color": "white"
             }
            },
            "type": "table"
           }
          ]
         },
         "layout": {
          "annotationdefaults": {
           "arrowcolor": "#2a3f5f",
           "arrowhead": 0,
           "arrowwidth": 1
          },
          "autotypenumbers": "strict",
          "coloraxis": {
           "colorbar": {
            "outlinewidth": 0,
            "ticks": ""
           }
          },
          "colorscale": {
           "diverging": [
            [
             0,
             "#8e0152"
            ],
            [
             0.1,
             "#c51b7d"
            ],
            [
             0.2,
             "#de77ae"
            ],
            [
             0.3,
             "#f1b6da"
            ],
            [
             0.4,
             "#fde0ef"
            ],
            [
             0.5,
             "#f7f7f7"
            ],
            [
             0.6,
             "#e6f5d0"
            ],
            [
             0.7,
             "#b8e186"
            ],
            [
             0.8,
             "#7fbc41"
            ],
            [
             0.9,
             "#4d9221"
            ],
            [
             1,
             "#276419"
            ]
           ],
           "sequential": [
            [
             0,
             "#0d0887"
            ],
            [
             0.1111111111111111,
             "#46039f"
            ],
            [
             0.2222222222222222,
             "#7201a8"
            ],
            [
             0.3333333333333333,
             "#9c179e"
            ],
            [
             0.4444444444444444,
             "#bd3786"
            ],
            [
             0.5555555555555556,
             "#d8576b"
            ],
            [
             0.6666666666666666,
             "#ed7953"
            ],
            [
             0.7777777777777778,
             "#fb9f3a"
            ],
            [
             0.8888888888888888,
             "#fdca26"
            ],
            [
             1,
             "#f0f921"
            ]
           ],
           "sequentialminus": [
            [
             0,
             "#0d0887"
            ],
            [
             0.1111111111111111,
             "#46039f"
            ],
            [
             0.2222222222222222,
             "#7201a8"
            ],
            [
             0.3333333333333333,
             "#9c179e"
            ],
            [
             0.4444444444444444,
             "#bd3786"
            ],
            [
             0.5555555555555556,
             "#d8576b"
            ],
            [
             0.6666666666666666,
             "#ed7953"
            ],
            [
             0.7777777777777778,
             "#fb9f3a"
            ],
            [
             0.8888888888888888,
             "#fdca26"
            ],
            [
             1,
             "#f0f921"
            ]
           ]
          },
          "colorway": [
           "#636efa",
           "#EF553B",
           "#00cc96",
           "#ab63fa",
           "#FFA15A",
           "#19d3f3",
           "#FF6692",
           "#B6E880",
           "#FF97FF",
           "#FECB52"
          ],
          "font": {
           "color": "#2a3f5f"
          },
          "geo": {
           "bgcolor": "white",
           "lakecolor": "white",
           "landcolor": "#E5ECF6",
           "showlakes": true,
           "showland": true,
           "subunitcolor": "white"
          },
          "hoverlabel": {
           "align": "left"
          },
          "hovermode": "closest",
          "mapbox": {
           "style": "light"
          },
          "paper_bgcolor": "white",
          "plot_bgcolor": "#E5ECF6",
          "polar": {
           "angularaxis": {
            "gridcolor": "white",
            "linecolor": "white",
            "ticks": ""
           },
           "bgcolor": "#E5ECF6",
           "radialaxis": {
            "gridcolor": "white",
            "linecolor": "white",
            "ticks": ""
           }
          },
          "scene": {
           "xaxis": {
            "backgroundcolor": "#E5ECF6",
            "gridcolor": "white",
            "gridwidth": 2,
            "linecolor": "white",
            "showbackground": true,
            "ticks": "",
            "zerolinecolor": "white"
           },
           "yaxis": {
            "backgroundcolor": "#E5ECF6",
            "gridcolor": "white",
            "gridwidth": 2,
            "linecolor": "white",
            "showbackground": true,
            "ticks": "",
            "zerolinecolor": "white"
           },
           "zaxis": {
            "backgroundcolor": "#E5ECF6",
            "gridcolor": "white",
            "gridwidth": 2,
            "linecolor": "white",
            "showbackground": true,
            "ticks": "",
            "zerolinecolor": "white"
           }
          },
          "shapedefaults": {
           "line": {
            "color": "#2a3f5f"
           }
          },
          "ternary": {
           "aaxis": {
            "gridcolor": "white",
            "linecolor": "white",
            "ticks": ""
           },
           "baxis": {
            "gridcolor": "white",
            "linecolor": "white",
            "ticks": ""
           },
           "bgcolor": "#E5ECF6",
           "caxis": {
            "gridcolor": "white",
            "linecolor": "white",
            "ticks": ""
           }
          },
          "title": {
           "x": 0.05
          },
          "xaxis": {
           "automargin": true,
           "gridcolor": "white",
           "linecolor": "white",
           "ticks": "",
           "title": {
            "standoff": 15
           },
           "zerolinecolor": "white",
           "zerolinewidth": 2
          },
          "yaxis": {
           "automargin": true,
           "gridcolor": "white",
           "linecolor": "white",
           "ticks": "",
           "title": {
            "standoff": 15
           },
           "zerolinecolor": "white",
           "zerolinewidth": 2
          }
         }
        },
        "title": {
         "text": "点击演示按钮"
        },
        "updatemenus": [
         {
          "buttons": [
           {
            "args": [
             null
            ],
            "label": "演示",
            "method": "animate"
           }
          ],
          "type": "buttons"
         }
        ],
        "width": 800,
        "xaxis": {
         "autorange": false,
         "range": [
          -6,
          6
         ]
        },
        "yaxis": {
         "autorange": false,
         "range": [
          -6,
          6
         ]
        }
       }
      }
     },
     "metadata": {},
     "output_type": "display_data"
    }
   ],
   "source": [
    "frames = []\n",
    "N = 100\n",
    "\n",
    "local = [(-5, -2), (-3, 4), (4, 5), (-4, -3), (-1, 1), (0, -1), (1, 3), (2, -4), (-2, 0), (3, 2)]\n",
    "\n",
    "pops = initpop(N, list(range(10)))\n",
    "for _ in range(50):\n",
    "    pops = evolution(pops)\n",
    "    x, y = out_xy(pops[np.array(get_fitness(pops)).argmin()], local)\n",
    "    frames.append(go.Frame(data=[go.Scatter(x=x, y=y, mode=\"lines+markers\", marker=dict(size=10))], layout=go.Layout(title_text=f\"当前最短路径长度为：{round(min(get_fitness(pops)), 2)}\")))\n",
    "frames[-1] = go.Frame(data=[go.Scatter(x=x, y=y, mode=\"lines+markers\", marker=dict(size=10))], layout=go.Layout(title_text=f\"遗传结束，最短路径长度为：{round(min(get_fitness(pops)), 2)}\"))\n",
    "\n",
    "fig = go.Figure(\n",
    "    data=[go.Scatter(x=x, y=y, mode=\"markers\", marker=dict(size=10)), go.Scatter(x=[0], y=[0], mode=\"markers\", marker=dict(color=\"red\", size=15), name=\"起点\")],\n",
    "    layout=go.Layout(\n",
    "        xaxis=dict(range=[-6, 6], autorange=False),\n",
    "        yaxis=dict(range=[-6, 6], autorange=False),\n",
    "        title=\"点击演示按钮\",\n",
    "        updatemenus=[dict(\n",
    "            type=\"buttons\",\n",
    "            buttons=[dict(label=\"演示\",\n",
    "                          method=\"animate\",\n",
    "                          args=[None])])]\n",
    "    ),\n",
    "    frames=frames\n",
    ")\n",
    "\n",
    "fig.update_layout(\n",
    "    width=800,\n",
    "    height=800,\n",
    ")\n",
    "\n",
    "\n",
    "fig.show()"
   ]
  }
 ],
 "metadata": {
  "kernelspec": {
   "display_name": "Python 3.9.7 ('base')",
   "language": "python",
   "name": "python3"
  },
  "language_info": {
   "codemirror_mode": {
    "name": "ipython",
    "version": 3
   },
   "file_extension": ".py",
   "mimetype": "text/x-python",
   "name": "python",
   "nbconvert_exporter": "python",
   "pygments_lexer": "ipython3",
   "version": "3.9.7"
  },
  "orig_nbformat": 4,
  "vscode": {
   "interpreter": {
    "hash": "a825f8e8905b8e64233e6384cfa1616d0baa442a3b458fa78e4916d5c671b0d4"
   }
  }
 },
 "nbformat": 4,
 "nbformat_minor": 2
}
